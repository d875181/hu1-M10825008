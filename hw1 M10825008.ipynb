{
 "cells": [
  {
   "cell_type": "code",
   "execution_count": 1,
   "metadata": {
    "executionInfo": {
     "elapsed": 1176,
     "status": "ok",
     "timestamp": 1602368060535,
     "user": {
      "displayName": "恩杰林",
      "photoUrl": "",
      "userId": "01726769408647197554"
     },
     "user_tz": -480
    },
    "id": "HVhx1RKlhQ0b"
   },
   "outputs": [],
   "source": [
    "#載入套件\n",
    "import pandas as pd\n",
    "import numpy as np\n",
    "import matplotlib.pyplot as plt\n",
    "import seaborn as sns\n",
    "%matplotlib inline"
   ]
  },
  {
   "cell_type": "code",
   "execution_count": 2,
   "metadata": {
    "colab": {
     "base_uri": "https://localhost:8080/",
     "height": 231
    },
    "executionInfo": {
     "elapsed": 1165,
     "status": "ok",
     "timestamp": 1602368060536,
     "user": {
      "displayName": "恩杰林",
      "photoUrl": "",
      "userId": "01726769408647197554"
     },
     "user_tz": -480
    },
    "id": "TG--DE_fhQ0l",
    "outputId": "4634b778-6879-4eed-cd0a-698346f87943"
   },
   "outputs": [
    {
     "data": {
      "text/html": [
       "<div>\n",
       "<style scoped>\n",
       "    .dataframe tbody tr th:only-of-type {\n",
       "        vertical-align: middle;\n",
       "    }\n",
       "\n",
       "    .dataframe tbody tr th {\n",
       "        vertical-align: top;\n",
       "    }\n",
       "\n",
       "    .dataframe thead th {\n",
       "        text-align: right;\n",
       "    }\n",
       "</style>\n",
       "<table border=\"1\" class=\"dataframe\">\n",
       "  <thead>\n",
       "    <tr style=\"text-align: right;\">\n",
       "      <th></th>\n",
       "      <th>Wifes age</th>\n",
       "      <th>Wifes education</th>\n",
       "      <th>Husbands education</th>\n",
       "      <th>Number of children ever born</th>\n",
       "      <th>Wifes religion</th>\n",
       "      <th>Wifes now working</th>\n",
       "      <th>Husbands occupation</th>\n",
       "      <th>Standard-of-living index</th>\n",
       "      <th>Media exposure</th>\n",
       "      <th>Contraceptive method used</th>\n",
       "    </tr>\n",
       "  </thead>\n",
       "  <tbody>\n",
       "    <tr>\n",
       "      <th>0</th>\n",
       "      <td>24</td>\n",
       "      <td>2</td>\n",
       "      <td>3</td>\n",
       "      <td>3</td>\n",
       "      <td>1</td>\n",
       "      <td>1</td>\n",
       "      <td>2</td>\n",
       "      <td>3</td>\n",
       "      <td>0</td>\n",
       "      <td>1</td>\n",
       "    </tr>\n",
       "    <tr>\n",
       "      <th>1</th>\n",
       "      <td>45</td>\n",
       "      <td>1</td>\n",
       "      <td>3</td>\n",
       "      <td>10</td>\n",
       "      <td>1</td>\n",
       "      <td>1</td>\n",
       "      <td>3</td>\n",
       "      <td>4</td>\n",
       "      <td>0</td>\n",
       "      <td>1</td>\n",
       "    </tr>\n",
       "    <tr>\n",
       "      <th>2</th>\n",
       "      <td>43</td>\n",
       "      <td>2</td>\n",
       "      <td>3</td>\n",
       "      <td>7</td>\n",
       "      <td>1</td>\n",
       "      <td>1</td>\n",
       "      <td>3</td>\n",
       "      <td>4</td>\n",
       "      <td>0</td>\n",
       "      <td>1</td>\n",
       "    </tr>\n",
       "    <tr>\n",
       "      <th>3</th>\n",
       "      <td>42</td>\n",
       "      <td>3</td>\n",
       "      <td>2</td>\n",
       "      <td>9</td>\n",
       "      <td>1</td>\n",
       "      <td>1</td>\n",
       "      <td>3</td>\n",
       "      <td>3</td>\n",
       "      <td>0</td>\n",
       "      <td>1</td>\n",
       "    </tr>\n",
       "    <tr>\n",
       "      <th>4</th>\n",
       "      <td>36</td>\n",
       "      <td>3</td>\n",
       "      <td>3</td>\n",
       "      <td>8</td>\n",
       "      <td>1</td>\n",
       "      <td>1</td>\n",
       "      <td>3</td>\n",
       "      <td>2</td>\n",
       "      <td>0</td>\n",
       "      <td>1</td>\n",
       "    </tr>\n",
       "  </tbody>\n",
       "</table>\n",
       "</div>"
      ],
      "text/plain": [
       "   Wifes age  Wifes education  Husbands education  \\\n",
       "0         24                2                   3   \n",
       "1         45                1                   3   \n",
       "2         43                2                   3   \n",
       "3         42                3                   2   \n",
       "4         36                3                   3   \n",
       "\n",
       "   Number of children ever born  Wifes religion  Wifes now working  \\\n",
       "0                             3               1                  1   \n",
       "1                            10               1                  1   \n",
       "2                             7               1                  1   \n",
       "3                             9               1                  1   \n",
       "4                             8               1                  1   \n",
       "\n",
       "   Husbands occupation  Standard-of-living index  Media exposure  \\\n",
       "0                    2                         3               0   \n",
       "1                    3                         4               0   \n",
       "2                    3                         4               0   \n",
       "3                    3                         3               0   \n",
       "4                    3                         2               0   \n",
       "\n",
       "   Contraceptive method used  \n",
       "0                          1  \n",
       "1                          1  \n",
       "2                          1  \n",
       "3                          1  \n",
       "4                          1  "
      ]
     },
     "execution_count": 2,
     "metadata": {},
     "output_type": "execute_result"
    }
   ],
   "source": [
    "df = pd.read_csv('ctcpt.csv')  #匯入Contraceptive Method Choice Data Set CSV檔\n",
    "                 \n",
    "df.head()"
   ]
  },
  {
   "cell_type": "code",
   "execution_count": 3,
   "metadata": {
    "colab": {
     "base_uri": "https://localhost:8080/",
     "height": 318
    },
    "executionInfo": {
     "elapsed": 1152,
     "status": "ok",
     "timestamp": 1602368060537,
     "user": {
      "displayName": "恩杰林",
      "photoUrl": "",
      "userId": "01726769408647197554"
     },
     "user_tz": -480
    },
    "id": "9o7PE7gAhQ0t",
    "outputId": "ef4580c9-8338-4c58-86dc-8489be6cacaa"
   },
   "outputs": [
    {
     "name": "stdout",
     "output_type": "stream",
     "text": [
      "<class 'pandas.core.frame.DataFrame'>\n",
      "RangeIndex: 1473 entries, 0 to 1472\n",
      "Data columns (total 10 columns):\n",
      " #   Column                        Non-Null Count  Dtype\n",
      "---  ------                        --------------  -----\n",
      " 0   Wifes age                     1473 non-null   int64\n",
      " 1   Wifes education               1473 non-null   int64\n",
      " 2   Husbands education            1473 non-null   int64\n",
      " 3   Number of children ever born  1473 non-null   int64\n",
      " 4   Wifes religion                1473 non-null   int64\n",
      " 5   Wifes now working             1473 non-null   int64\n",
      " 6   Husbands occupation           1473 non-null   int64\n",
      " 7   Standard-of-living index      1473 non-null   int64\n",
      " 8   Media exposure                1473 non-null   int64\n",
      " 9   Contraceptive method used     1473 non-null   int64\n",
      "dtypes: int64(10)\n",
      "memory usage: 115.2 KB\n"
     ]
    }
   ],
   "source": [
    "df.info()"
   ]
  },
  {
   "cell_type": "markdown",
   "metadata": {
    "id": "vOmL9r7QihP2"
   },
   "source": []
  },
  {
   "cell_type": "code",
   "execution_count": 6,
   "metadata": {
    "executionInfo": {
     "elapsed": 1551,
     "status": "ok",
     "timestamp": 1602368060948,
     "user": {
      "displayName": "恩杰林",
      "photoUrl": "",
      "userId": "01726769408647197554"
     },
     "user_tz": -480
    },
    "id": "0QeYGkf7hQ0z"
   },
   "outputs": [],
   "source": [
    "#將資料分成訓練組及測試組\n",
    "from sklearn.model_selection import train_test_split\n",
    "\n",
    "#因為駝背是之後要預測的變數，所以X軸不用\n",
    "X = df.drop('Wifes age',axis=1)\n",
    "y = df['Contraceptive method used']\n",
    "X_train, X_test, y_train, y_test = train_test_split(X,y,test_size=0.3,random_state=101)"
   ]
  },
  {
   "cell_type": "code",
   "execution_count": 5,
   "metadata": {
    "executionInfo": {
     "elapsed": 1541,
     "status": "ok",
     "timestamp": 1602368060950,
     "user": {
      "displayName": "恩杰林",
      "photoUrl": "",
      "userId": "01726769408647197554"
     },
     "user_tz": -480
    },
    "id": "oLgkA_tOhQ03"
   },
   "outputs": [
    {
     "data": {
      "text/plain": [
       "1.0"
      ]
     },
     "execution_count": 5,
     "metadata": {},
     "output_type": "execute_result"
    }
   ],
   "source": [
    "from sklearn import tree\n",
    "clf = tree.DecisionTreeClassifier(criterion='entropy').fit(X,y)\n",
    "clf.score(X,y)"
   ]
  },
  {
   "cell_type": "code",
   "execution_count": 20,
   "metadata": {},
   "outputs": [
    {
     "data": {
      "text/plain": [
       "DecisionTreeClassifier()"
      ]
     },
     "execution_count": 20,
     "metadata": {},
     "output_type": "execute_result"
    }
   ],
   "source": [
    "#使用決策樹演算法\n",
    "from sklearn.tree import DecisionTreeClassifier\n",
    "dtree = DecisionTreeClassifier()\n",
    "dtree.fit(X_train,y_train)\n",
    "#評估決策樹模型好壞\n",
    "predictions = dtree.predict(X_test)\n",
    "from sklearn.metrics import classification_report,confusion_matrix\n",
    "print(classification_report(y_test,predictions))"
   ]
  },
  {
   "cell_type": "code",
   "execution_count": 21,
   "metadata": {
    "colab": {
     "base_uri": "https://localhost:8080/",
     "height": 52
    },
    "executionInfo": {
     "elapsed": 3406,
     "status": "ok",
     "timestamp": 1602368241929,
     "user": {
      "displayName": "恩杰林",
      "photoUrl": "",
      "userId": "01726769408647197554"
     },
     "user_tz": -480
    },
    "id": "EXiWzZ1zhQ1C",
    "outputId": "294e7e45-99d1-4eab-ac93-f2937c5de077"
   },
   "outputs": [
    {
     "name": "stdout",
     "output_type": "stream",
     "text": [
      "Requirement already satisfied: pydotplus in c:\\users\\jay\\anaconda3\\lib\\site-packages (2.0.2)\n",
      "Requirement already satisfied: pyparsing>=2.0.1 in c:\\users\\jay\\anaconda3\\lib\\site-packages (from pydotplus) (2.4.7)\n"
     ]
    }
   ],
   "source": [
    "!pip install pydotplus\n",
    "import pydotplus\n"
   ]
  },
  {
   "cell_type": "code",
   "execution_count": 18,
   "metadata": {},
   "outputs": [
    {
     "name": "stdout",
     "output_type": "stream",
     "text": [
      "              precision    recall  f1-score   support\n",
      "\n",
      "           1       1.00      1.00      1.00       197\n",
      "           2       1.00      1.00      1.00        92\n",
      "           3       1.00      1.00      1.00       153\n",
      "\n",
      "    accuracy                           1.00       442\n",
      "   macro avg       1.00      1.00      1.00       442\n",
      "weighted avg       1.00      1.00      1.00       442\n",
      "\n"
     ]
    }
   ],
   "source": [
    "#使用隨機森林與決策樹做比較\n",
    "from sklearn.ensemble import RandomForestClassifier\n",
    "\n",
    "#n_estimator代表要使用多少CART樹（CART樹為使用GINI算法的決策樹）\n",
    "rfc = RandomForestClassifier(n_estimators=100)\n",
    "\n",
    "#從訓練組資料中建立隨機森林模型\n",
    "rfc.fit(X_train,y_train)\n",
    "\n",
    "#預測測試組的駝背是否發生\n",
    "rfc_pred = rfc.predict(X_test)\n",
    "\n",
    "#利用classification report來看precision、recall、f1-score、support\n",
    "print(classification_report(y_test,rfc_pred))"
   ]
  },
  {
   "cell_type": "code",
   "execution_count": 7,
   "metadata": {
    "colab": {
     "base_uri": "https://localhost:8080/",
     "height": 34
    },
    "executionInfo": {
     "elapsed": 1086,
     "status": "ok",
     "timestamp": 1602368260130,
     "user": {
      "displayName": "恩杰林",
      "photoUrl": "",
      "userId": "01726769408647197554"
     },
     "user_tz": -480
    },
    "id": "qIypb1rthQ1R",
    "outputId": "c39bb631-16bf-412b-98a6-f15252d2042d"
   },
   "outputs": [
    {
     "data": {
      "text/plain": [
       "True"
      ]
     },
     "execution_count": 7,
     "metadata": {},
     "output_type": "execute_result"
    }
   ],
   "source": [
    "# from sklearn import datasets\n",
    "import pydotplus\n",
    "import os\n",
    "from sklearn.tree import DecisionTreeClassifier,export_graphviz\n",
    "dot_data=tree.export_graphviz(clf,out_file=None)\n",
    "graph=pydotplus.graph_from_dot_data(dot_data)\n",
    "graph.write_pdf('cmc.pdf')"
   ]
  },
  {
   "cell_type": "code",
   "execution_count": null,
   "metadata": {},
   "outputs": [],
   "source": []
  }
 ],
 "metadata": {
  "colab": {
   "name": "yuuu.ipynb",
   "provenance": [],
   "toc_visible": true
  },
  "kernelspec": {
   "display_name": "Python 3",
   "language": "python",
   "name": "python3"
  },
  "language_info": {
   "codemirror_mode": {
    "name": "ipython",
    "version": 3
   },
   "file_extension": ".py",
   "mimetype": "text/x-python",
   "name": "python",
   "nbconvert_exporter": "python",
   "pygments_lexer": "ipython3",
   "version": "3.8.3"
  }
 },
 "nbformat": 4,
 "nbformat_minor": 1
}
